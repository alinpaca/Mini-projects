{
 "cells": [
  {
   "cell_type": "markdown",
   "metadata": {},
   "source": [
    "## Quandl API data wrangling project"
   ]
  },
  {
   "cell_type": "markdown",
   "metadata": {},
   "source": [
    "This project pulls data from the Quandl API and answers questions on equities data from the Frankfurt Stock Exhange (FSE). Specifically, I focus on the stock prices of Carl Zeiss Meditec, a manufacturer of tools for eye examinations and medical lasers for laser eye surgery: https://www.zeiss.com/meditec/int/home.html. The company is listed under the stock symbol AFX_X."
   ]
  },
  {
   "cell_type": "markdown",
   "metadata": {},
   "source": [
    "API key after registering on Quandl"
   ]
  },
  {
   "cell_type": "code",
   "execution_count": 98,
   "metadata": {},
   "outputs": [],
   "source": [
    "# Store the API key as a string - according to PEP8, constants are always named in all upper case\n",
    "API_KEY = '123456'"
   ]
  },
  {
   "cell_type": "code",
   "execution_count": 99,
   "metadata": {},
   "outputs": [],
   "source": [
    "import requests\n",
    "import json"
   ]
  },
  {
   "cell_type": "code",
   "execution_count": 100,
   "metadata": {},
   "outputs": [],
   "source": [
    "# Call Quandl API and pull a small sample of the data (JSON)\n",
    "\n",
    "r = requests.get('https://www.quandl.com/api/v3/datasets/FSE/AFX_X/data.json?start_date=2019-04-01&end_date=2019-04-01&api_key='+API_KEY)"
   ]
  },
  {
   "cell_type": "code",
   "execution_count": 101,
   "metadata": {},
   "outputs": [
    {
     "name": "stdout",
     "output_type": "stream",
     "text": [
      "{'dataset_data': {'limit': None, 'transform': None, 'column_index': None, 'column_names': ['Date', 'Open', 'High', 'Low', 'Close', 'Change', 'Traded Volume', 'Turnover', 'Last Price of the Day', 'Daily Traded Units', 'Daily Turnover'], 'start_date': '2019-04-01', 'end_date': '2019-04-01', 'frequency': 'daily', 'data': [['2019-04-01', None, 76.0, 74.1, 74.9, None, 186845.0, 14041454.0, None, None, None]], 'collapse': None, 'order': None}}\n"
     ]
    }
   ],
   "source": [
    "# Look at data structure\n",
    "print(r.json())"
   ]
  },
  {
   "cell_type": "markdown",
   "metadata": {},
   "source": [
    "&nbsp;\n",
    "\n",
    "Collect data from the Franfurt Stock Exchange, for the ticker AFX_X, for the whole year 2017."
   ]
  },
  {
   "cell_type": "code",
   "execution_count": 102,
   "metadata": {},
   "outputs": [],
   "source": [
    "r = requests.get('https://www.quandl.com/api/v3/datasets/FSE/AFX_X/data.json?start_date=2017-01-01&end_date=2017-12-31&api_key='+API_KEY)"
   ]
  },
  {
   "cell_type": "markdown",
   "metadata": {},
   "source": [
    "&nbsp;\n",
    "\n",
    "Convert the JSON object into a Python dictionary."
   ]
  },
  {
   "cell_type": "code",
   "execution_count": 103,
   "metadata": {},
   "outputs": [],
   "source": [
    "data = r.json()"
   ]
  },
  {
   "cell_type": "code",
   "execution_count": 104,
   "metadata": {},
   "outputs": [
    {
     "data": {
      "text/plain": [
       "[['2017-12-29',\n",
       "  51.76,\n",
       "  51.94,\n",
       "  51.45,\n",
       "  51.76,\n",
       "  None,\n",
       "  34640.0,\n",
       "  1792304.0,\n",
       "  None,\n",
       "  None,\n",
       "  None],\n",
       " ['2017-12-28',\n",
       "  51.65,\n",
       "  51.82,\n",
       "  51.43,\n",
       "  51.6,\n",
       "  None,\n",
       "  40660.0,\n",
       "  2099024.0,\n",
       "  None,\n",
       "  None,\n",
       "  None]]"
      ]
     },
     "execution_count": 104,
     "metadata": {},
     "output_type": "execute_result"
    }
   ],
   "source": [
    "data['dataset_data']['data'][0:2]"
   ]
  },
  {
   "cell_type": "markdown",
   "metadata": {},
   "source": [
    "&nbsp;\n",
    "\n",
    "Calculate what the highest and lowest opening prices were for this stock in this period."
   ]
  },
  {
   "cell_type": "code",
   "execution_count": 105,
   "metadata": {},
   "outputs": [
    {
     "name": "stdout",
     "output_type": "stream",
     "text": [
      "Highest opening price was 53.11 on 2017-12-14\n",
      "Lowest opening price was 34.0 on 2017-01-27\n"
     ]
    }
   ],
   "source": [
    "# List of opening prices\n",
    "opening_prices = [x[1] for x in data['dataset_data']['data'] if x[1] is not None]\n",
    "\n",
    "# Find max price and date that the price occurred\n",
    "maximum = max(opening_prices)\n",
    "max_idx = opening_prices.index(maximum)\n",
    "max_date = data['dataset_data']['data'][max_idx][0]\n",
    "\n",
    "# Find min price and date that the price occurred\n",
    "minimum = min(opening_prices)\n",
    "min_idx = opening_prices.index(minimum)\n",
    "min_date = data['dataset_data']['data'][min_idx][0]\n",
    "\n",
    "print('Highest opening price was {} on {}'.format(maximum, max_date))\n",
    "print('Lowest opening price was {} on {}'.format(minimum, min_date))"
   ]
  },
  {
   "cell_type": "markdown",
   "metadata": {},
   "source": [
    "&nbsp;\n",
    "\n",
    "What was the largest change in any one day (based on High and Low price)?"
   ]
  },
  {
   "cell_type": "code",
   "execution_count": 106,
   "metadata": {},
   "outputs": [
    {
     "name": "stdout",
     "output_type": "stream",
     "text": [
      "Largest change in any one day: 2.81\n"
     ]
    }
   ],
   "source": [
    "# List of high prices\n",
    "high_prices = [x[2] for x in data['dataset_data']['data'] if x[2] is not None]\n",
    "\n",
    "# List of low prices\n",
    "low_prices = [x[3] for x in data['dataset_data']['data'] if x[3] is not None]\n",
    "\n",
    "# Difference between high and low in a given day\n",
    "diff = [hi-lo for hi, lo in zip(high_prices, low_prices)]\n",
    "\n",
    "print('Largest change in any one day: {0:.2f}'.format(max(diff)))"
   ]
  },
  {
   "cell_type": "markdown",
   "metadata": {},
   "source": [
    "&nbsp;\n",
    "\n",
    "What was the largest change between any two days (based on Closing Price)?"
   ]
  },
  {
   "cell_type": "code",
   "execution_count": 107,
   "metadata": {},
   "outputs": [
    {
     "name": "stdout",
     "output_type": "stream",
     "text": [
      "Largest change between any two consecutive trading days: 2.56\n"
     ]
    }
   ],
   "source": [
    "# Difference in closing price between two consecutive days\n",
    "day1 = [x[4] for x in data['dataset_data']['data'][:-1]]\n",
    "day2 = [x[4] for x in data['dataset_data']['data'][1:]]\n",
    "diff_closing = [abs(y-x) for x, y in zip(day1, day2)]\n",
    "max_diff = max(diff_closing)\n",
    "\n",
    "print('Largest change between any two consecutive trading days: {0:.2f}'.format(max_diff))"
   ]
  },
  {
   "cell_type": "code",
   "execution_count": 108,
   "metadata": {},
   "outputs": [
    {
     "name": "stdout",
     "output_type": "stream",
     "text": [
      "Largest difference in closing price between any two days: 19.03\n"
     ]
    }
   ],
   "source": [
    "# Difference in closing price between any two days of the year\n",
    "closing_prices = [x[4] for x in data['dataset_data']['data']]\n",
    "diff = max(closing_prices)-min(closing_prices)\n",
    "\n",
    "print('Largest difference in closing price between any two days: {0:.2f}'.format(diff))"
   ]
  },
  {
   "cell_type": "markdown",
   "metadata": {},
   "source": [
    "&nbsp;\n",
    "\n",
    "What was the average daily trading volume during this year?"
   ]
  },
  {
   "cell_type": "code",
   "execution_count": 109,
   "metadata": {},
   "outputs": [
    {
     "name": "stdout",
     "output_type": "stream",
     "text": [
      "Average daily trading volume in 2017: 89124.34\n"
     ]
    }
   ],
   "source": [
    "daily_traded_vol = [x[6] for x in data['dataset_data']['data']]\n",
    "avg_daily_traded_vol = sum(daily_traded_vol)/len(daily_traded_vol)\n",
    "print('Average daily trading volume in 2017: {0:.2f}'.format(avg_daily_traded_vol))"
   ]
  },
  {
   "cell_type": "markdown",
   "metadata": {},
   "source": [
    "&nbsp;\n",
    "\n",
    "What was the median trading volume during this year?"
   ]
  },
  {
   "cell_type": "code",
   "execution_count": 110,
   "metadata": {},
   "outputs": [],
   "source": [
    "def median(lst):\n",
    "    \"\"\"This function takes a list of values and returns the median value.\"\"\"\n",
    "    # sort the values in order\n",
    "    lst.sort()\n",
    "    \n",
    "    # find the center index to access in the list\n",
    "    idx = round(len(lst)/2)-1\n",
    "    \n",
    "    return lst[idx]"
   ]
  },
  {
   "cell_type": "code",
   "execution_count": 111,
   "metadata": {},
   "outputs": [
    {
     "name": "stdout",
     "output_type": "stream",
     "text": [
      "Median trading volume in 2017: 76286.00\n"
     ]
    }
   ],
   "source": [
    "print('Median trading volume in 2017: {0:.2f}'.format(median(daily_traded_vol)))"
   ]
  }
 ],
 "metadata": {
  "kernelspec": {
   "display_name": "Python 3",
   "language": "python",
   "name": "python3"
  },
  "language_info": {
   "codemirror_mode": {
    "name": "ipython",
    "version": 3
   },
   "file_extension": ".py",
   "mimetype": "text/x-python",
   "name": "python",
   "nbconvert_exporter": "python",
   "pygments_lexer": "ipython3",
   "version": "3.6.8"
  }
 },
 "nbformat": 4,
 "nbformat_minor": 2
}
